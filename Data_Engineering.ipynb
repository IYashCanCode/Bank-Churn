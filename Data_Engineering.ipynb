{
  "nbformat": 4,
  "nbformat_minor": 0,
  "metadata": {
    "colab": {
      "provenance": [],
      "authorship_tag": "ABX9TyOxMvhX0j1aHrNKnHz4eUrB",
      "include_colab_link": true
    },
    "kernelspec": {
      "name": "python3",
      "display_name": "Python 3"
    },
    "language_info": {
      "name": "python"
    }
  },
  "cells": [
    {
      "cell_type": "markdown",
      "metadata": {
        "id": "view-in-github",
        "colab_type": "text"
      },
      "source": [
        "<a href=\"https://colab.research.google.com/github/IYashCanCode/Bank-Churn/blob/main/Data_Engineering.ipynb\" target=\"_parent\"><img src=\"https://colab.research.google.com/assets/colab-badge.svg\" alt=\"Open In Colab\"/></a>"
      ]
    },
    {
      "cell_type": "markdown",
      "source": [
        "<h1><b>Feature Engineering"
      ],
      "metadata": {
        "id": "L7IUWDlOqbjB"
      }
    },
    {
      "cell_type": "code",
      "source": [
        "import numpy as np\n",
        "import pandas as pd"
      ],
      "metadata": {
        "id": "K187ISmYrBWi"
      },
      "execution_count": null,
      "outputs": []
    },
    {
      "cell_type": "code",
      "source": [
        "class Feature_Engineering:\n",
        "\n",
        "  def Binary_encoding(self,dataframe,change_columns=None):                                          #Binary encoding : To encode any number or all of features that have 2 categories in them\n",
        "    if change_columns is None:\n",
        "      self.binary_columns = [ i for i in dataframe.columns if dataframe[i].nunique()==2]            #Encodes all the columns having 2 categories in them\n",
        "    else:\n",
        "      self.binary_columns = [ i for i in change_columns if dataframe[i].nunique()==2]               #Encodes only those columns having 2 categories in them which you have passed in the parameter change_columns(note: column(s) must be passed as list of column(s) )\n",
        "\n",
        "\n",
        "    for i in self.binary_columns:\n",
        "      dataframe[i].replace({dataframe[i].unique()[0]:0,dataframe[i].unique()[1]:1},inplace=True)    #Brings the changes to the original dataframe\n",
        "\n",
        "    return dataframe                                                                                #returns dataframe with modified columns with numeric data\n",
        "\n",
        "\n",
        "\n",
        "  def OneHotEncoder(self,dataframe):                                                               #OneHotEncoder : To encode all the categorical columns with any number of categories in numeric data\n",
        "    from sklearn.compose import ColumnTransformer as CT\n",
        "    from sklearn.preprocessing import OneHotEncoder as ohe\n",
        "    transformer = CT(\n",
        "                      transformers=[('ohe',ohe(drop='first',sparse_output=False),\n",
        "                      list(dataframe.select_dtypes(include='object')))]\n",
        "                    )\n",
        "\n",
        "\n",
        "    transformer.fit_transform(dataframe)\n",
        "    sample = pd.DataFrame(transformer.fit_transform(dataframe))\n",
        "\n",
        "    start = 0                                                                                    #There is a particular problem when sing OneHotEnoder is, it always return the numpy array with no info related to the column transformation\n",
        "    renamed_columns = []                                                                         #This particular function will return the dataframe with their column header and their respective numeric values\n",
        "    for i in dataframe.select_dtypes(include='object').columns:\n",
        "      unique = dataframe[i].unique()\n",
        "      for j in unique[1:]:\n",
        "        renamed_columns.append(i+'_'+j)\n",
        "    sample.columns = renamed_columns\n",
        "    dataframe.drop(list(dataframe.select_dtypes(include='object')),axis=1,inplace=True)\n",
        "    dataframe = pd.concat([sample,dataframe],axis=1)\n",
        "\n",
        "    return dataframe                                                                             #returns the dataframe with One Hot Encoded values\n",
        "\n",
        "\n",
        "\n",
        "\n",
        "  def Probabiltiy_Ratio(self,dataframe,target):                                                 # Probability_Ration : To encode the categorical feature based on the probability of each column value w.r.t to the target column to the\n",
        "    for i in dataframe.select_dtypes(include='object').columns:\n",
        "      if i!=target:\n",
        "        probability = pd.DataFrame()\n",
        "        probability['1'] = dataframe.groupby(i)['Attrition_Flag'].mean()\n",
        "        probability['0'] = 1-probability['1']\n",
        "        probability['0'].replace({0.0:0.0001},inplace=True)\n",
        "        probability['P(1)/P(0)'] = probability['1']/probability['0']\n",
        "        dataframe[i].replace(probability['P(1)/P(0)'].to_dict(),inplace=True)\n",
        "    return dataframe                                                                            #returns dataframe with encoded values on the probability ration of P(1)/P(0)\n",
        "\n",
        "\n"
      ],
      "metadata": {
        "id": "XpEgae_2raXg"
      },
      "execution_count": null,
      "outputs": []
    }
  ]
}