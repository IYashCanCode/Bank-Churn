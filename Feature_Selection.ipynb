{
  "nbformat": 4,
  "nbformat_minor": 0,
  "metadata": {
    "colab": {
      "provenance": [],
      "gpuType": "T4",
      "authorship_tag": "ABX9TyNe+pF6h3UkYfsE5swGqYjj",
      "include_colab_link": true
    },
    "kernelspec": {
      "name": "python3",
      "display_name": "Python 3"
    },
    "language_info": {
      "name": "python"
    },
    "accelerator": "GPU"
  },
  "cells": [
    {
      "cell_type": "markdown",
      "metadata": {
        "id": "view-in-github",
        "colab_type": "text"
      },
      "source": [
        "<a href=\"https://colab.research.google.com/github/IYashCanCode/Bank-Churn/blob/main/Feature_Selection.ipynb\" target=\"_parent\"><img src=\"https://colab.research.google.com/assets/colab-badge.svg\" alt=\"Open In Colab\"/></a>"
      ]
    },
    {
      "cell_type": "code",
      "execution_count": null,
      "metadata": {
        "id": "vAeANeMFz_pS"
      },
      "outputs": [],
      "source": [
        "import pandas as pd\n",
        "import numpy as np\n",
        "from sklearn.feature_selection import SelectKBest,f_classif,mutual_info_classif,chi2\n",
        "from sklearn.linear_model import LogisticRegression\n",
        "from sklearn.feature_selection import RFE\n",
        "from sklearn.svm import SVR"
      ]
    },
    {
      "cell_type": "code",
      "source": [
        "class Filter_Methods:\n",
        "\n",
        "\n",
        "  def Univariate_chi2_Selection(self,df,target,k=10):\n",
        "    df = df.astype('float')\n",
        "\n",
        "    selector = SelectKBest(score_func=chi2,k=k)\n",
        "    KbestDf = pd.df()\n",
        "    KbestDf['Columns'] = [i for i in df.columns if i!=target]\n",
        "    KbestDf['Scores'] = selector.fit(df.loc[:,[i for i in df.columns if i!=target]],df.loc[:,target]).scores_\n",
        "    KbestDf = KbestDf.sort_values(by='Scores',ascending=False).head(k)\n",
        "\n",
        "    return KbestDf\n",
        "\n",
        "\n",
        "  def Univariate_fclassif_Selection(self,df,k,target):\n",
        "    df = df.astype('float')\n",
        "\n",
        "    selector = SelectKBest(score_func=f_classif,k=k)\n",
        "    KbestDf = pd.df()\n",
        "    KbestDf['Columns'] = [i for i in df.columns if i!=target]\n",
        "    KbestDf['Scores'] = selector.fit(df.loc[:,[i for i in df.columns if i!=target]],df.loc[:,target]).scores_\n",
        "    KbestDf = KbestDf.sort_values(by='Scores',ascending=False).head(k)\n",
        "\n",
        "    return KbestDf\n",
        "\n",
        "\n",
        "  def Univariate_mutualinfo_Selection(self,df,k,target):\n",
        "    df = df.astype('float')\n",
        "\n",
        "    selector = SelectKBest(score_func=mutual_info_classif,k=k)\n",
        "    KbestDf = pd.df()\n",
        "    KbestDf['Columns'] = [i for i in df.columns if i!=target]\n",
        "    KbestDf['Scores'] = selector.fit(df.loc[:,[i for i in df.columns if i!=target]],df.loc[:,target]).scores_\n",
        "    KbestDf = KbestDf.sort_values(by='Scores',ascending=False).head(k)\n",
        "\n",
        "    return KbestDf"
      ],
      "metadata": {
        "id": "GlotfIgORI9S"
      },
      "execution_count": null,
      "outputs": []
    },
    {
      "cell_type": "code",
      "source": [
        "class Wrapper_Methods:\n",
        "\n",
        "\n",
        "  def RFE_LogisticRegressiom(self,df,target):\n",
        "\n",
        "    rfe = RFE(LogisticRegression(max_iter=10000))\n",
        "    rfe.fit(df.drop(target,axis=1),df[target])\n",
        "    return rfe.get_support()\n",
        "\n",
        "  def RFE_SVM(self,df,target):\n",
        "\n",
        "    rfe = RFE(SVR(kernel=\"linear\"))\n",
        "    rfe.fit(df.drop(target,axis=1),df[target])\n",
        "    return rfe.get_support()\n",
        "\n"
      ],
      "metadata": {
        "id": "5PP1mCL1zZyV"
      },
      "execution_count": null,
      "outputs": []
    }
  ]
}